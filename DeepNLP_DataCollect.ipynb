{
 "cells": [
  {
   "cell_type": "markdown",
   "id": "616252bb",
   "metadata": {},
   "source": [
    "# Twitter Data Collect"
   ]
  },
  {
   "cell_type": "markdown",
   "id": "52737ad2",
   "metadata": {
    "heading_collapsed": true
   },
   "source": [
    "# Libraries"
   ]
  },
  {
   "cell_type": "code",
   "execution_count": 1,
   "id": "ffb7edc1",
   "metadata": {
    "hidden": true
   },
   "outputs": [],
   "source": [
    "import sys\n",
    "import csv\n",
    "import tweepy\n",
    "import pandas as pd"
   ]
  },
  {
   "cell_type": "markdown",
   "id": "18a07ac4",
   "metadata": {
    "heading_collapsed": true
   },
   "source": [
    "# Credentials"
   ]
  },
  {
   "cell_type": "code",
   "execution_count": 2,
   "id": "84a9bfb3",
   "metadata": {
    "hidden": true
   },
   "outputs": [],
   "source": [
    "# Twitter API consumer keys\n",
    "consumer_key = \"\"\n",
    "consumer_secret = \"\"\n",
    "access_token = \"\"\n",
    "access_token_secret = \"\""
   ]
  },
  {
   "cell_type": "markdown",
   "id": "c3aa77d6",
   "metadata": {
    "heading_collapsed": true
   },
   "source": [
    "# Init Twitter"
   ]
  },
  {
   "cell_type": "code",
   "execution_count": 3,
   "id": "597fb451",
   "metadata": {
    "hidden": true
   },
   "outputs": [],
   "source": [
    "auth = tweepy.OAuthHandler(consumer_key, consumer_secret)\n",
    "auth.set_access_token(access_token, access_token_secret)\n",
    "api = tweepy.API(auth,wait_on_rate_limit=True)"
   ]
  },
  {
   "cell_type": "markdown",
   "id": "e5e3b8d8",
   "metadata": {
    "heading_collapsed": true
   },
   "source": [
    "# Data Collection - Portezuelo"
   ]
  },
  {
   "cell_type": "code",
   "execution_count": 4,
   "id": "975e02a8",
   "metadata": {
    "hidden": true
   },
   "outputs": [],
   "source": [
    "def get_word_tweets(query='PortezueloDelViento', num_result = 10000):\n",
    "    '''\n",
    "    input: \n",
    "        api - twitter api\n",
    "        query - words to use for query \n",
    "        num_result \n",
    "    ouput: \n",
    "        a transformed data frame object\n",
    "    '''\n",
    "     \n",
    "    json_data = []; n = 0;\n",
    "    while n < num_result: \n",
    "        for search_result in api.search(query, lang='es', count=num_result-n):\n",
    "            if n > num_result: \n",
    "                break \n",
    "            n = n + 1\n",
    "            json_data.append(search_result._json)\n",
    "    \n",
    "    df = pd.io.json.json_normalize(json_data)\n",
    "    \n",
    "    # To check all available columns in the created dataframe use print(list(df.columns))\n",
    "    \n",
    "    #select desired columns\n",
    "    df = df[['id', 'created_at', 'user.name', 'text', 'favorite_count', 'retweet_count', 'truncated']]\n",
    "    df.replace(',',';',inplace=True)\n",
    "    \n",
    "    df.to_csv(query+'_tweets.csv', index=False, encoding=False) # write to csv file\n",
    "    print(\"Done. Your csv file is saved to \"+query+'_tweets.csv')\n",
    "    return df"
   ]
  },
  {
   "cell_type": "markdown",
   "id": "a05996aa",
   "metadata": {
    "heading_collapsed": true
   },
   "source": [
    "# Export csv"
   ]
  },
  {
   "cell_type": "code",
   "execution_count": 5,
   "id": "c5bd288a",
   "metadata": {
    "hidden": true
   },
   "outputs": [
    {
     "name": "stderr",
     "output_type": "stream",
     "text": [
      "C:\\Users\\MEGATE~1\\AppData\\Local\\Temp/ipykernel_18108/3173101460.py:19: FutureWarning: pandas.io.json.json_normalize is deprecated, use pandas.json_normalize instead.\n",
      "  df = pd.io.json.json_normalize(json_data)\n"
     ]
    },
    {
     "name": "stdout",
     "output_type": "stream",
     "text": [
      "Done. Your csv file is saved to PortezueloDelViento_tweets.csv\n"
     ]
    }
   ],
   "source": [
    "df = get_word_tweets()"
   ]
  },
  {
   "cell_type": "code",
   "execution_count": 6,
   "id": "52e3d8d1",
   "metadata": {
    "hidden": true
   },
   "outputs": [
    {
     "data": {
      "text/html": [
       "<div><div id=f305c8cb-14e5-41c0-9434-c372d8220bf5 style=\"display:none; background-color:#9D6CFF; color:white; width:200px; height:30px; padding-left:5px; border-radius:4px; flex-direction:row; justify-content:space-around; align-items:center;\" onmouseover=\"this.style.backgroundColor='#BA9BF8'\" onmouseout=\"this.style.backgroundColor='#9D6CFF'\" onclick=\"window.commands?.execute('create-mitosheet-from-dataframe-output');\">See Full Dataframe in Mito</div> <script> if (window.commands.hasCommand('create-mitosheet-from-dataframe-output')) document.getElementById('f305c8cb-14e5-41c0-9434-c372d8220bf5').style.display = 'flex' </script> <table border=\"1\" class=\"dataframe\">\n",
       "  <thead>\n",
       "    <tr style=\"text-align: right;\">\n",
       "      <th></th>\n",
       "      <th>id</th>\n",
       "      <th>created_at</th>\n",
       "      <th>user.name</th>\n",
       "      <th>text</th>\n",
       "      <th>favorite_count</th>\n",
       "      <th>retweet_count</th>\n",
       "      <th>truncated</th>\n",
       "    </tr>\n",
       "  </thead>\n",
       "  <tbody>\n",
       "    <tr>\n",
       "      <th>0</th>\n",
       "      <td>1516491256934805508</td>\n",
       "      <td>Tue Apr 19 18:57:45 +0000 2022</td>\n",
       "      <td>javimenniti.eth</td>\n",
       "      <td>Estudios aseguran que Las #hidrolecticas se quedaran sin agua en un futuro proximo. Y nosotros seguimos debatiendo… https://t.co/6a1zKiBrqX</td>\n",
       "      <td>1</td>\n",
       "      <td>1</td>\n",
       "      <td>True</td>\n",
       "    </tr>\n",
       "    <tr>\n",
       "      <th>1</th>\n",
       "      <td>1516041596126568455</td>\n",
       "      <td>Mon Apr 18 13:10:57 +0000 2022</td>\n",
       "      <td>Revista +Industrias</td>\n",
       "      <td>#LaPampa: Conflicto por Portezuelo: Mendoza está pensando en un plan B  https://t.co/u8QHqLKkSF\\n#mendoza #energía… https://t.co/m58jjq0BfM</td>\n",
       "      <td>0</td>\n",
       "      <td>0</td>\n",
       "      <td>True</td>\n",
       "    </tr>\n",
       "    <tr>\n",
       "      <th>2</th>\n",
       "      <td>1514457323594465280</td>\n",
       "      <td>Thu Apr 14 04:15:37 +0000 2022</td>\n",
       "      <td>pato carrizo</td>\n",
       "      <td>RT @MalosDias: #Ahora, en comunicación con Marcos López, del Grupo Olascoaga. En el comunicado del grupo 'Portezuelo no se hará' se oponen…</td>\n",
       "      <td>0</td>\n",
       "      <td>2</td>\n",
       "      <td>False</td>\n",
       "    </tr>\n",
       "    <tr>\n",
       "      <th>3</th>\n",
       "      <td>1514344913898557449</td>\n",
       "      <td>Wed Apr 13 20:48:57 +0000 2022</td>\n",
       "      <td>Silvia Rienzo</td>\n",
       "      <td>RT @petilombardi: #PortezueloDelViento tenia los avales en 2019 y por eso avanzamos con el proceso de licitación. En 2019 el presidente Mac…</td>\n",
       "      <td>0</td>\n",
       "      <td>14</td>\n",
       "      <td>False</td>\n",
       "    </tr>\n",
       "    <tr>\n",
       "      <th>4</th>\n",
       "      <td>1514323686462930945</td>\n",
       "      <td>Wed Apr 13 19:24:36 +0000 2022</td>\n",
       "      <td>Gustavo Lema</td>\n",
       "      <td>RT @petilombardi: #PortezueloDelViento tenia los avales en 2019 y por eso avanzamos con el proceso de licitación. En 2019 el presidente Mac…</td>\n",
       "      <td>0</td>\n",
       "      <td>14</td>\n",
       "      <td>False</td>\n",
       "    </tr>\n",
       "  </tbody>\n",
       "</table></div>"
      ],
      "text/plain": [
       "                    id                      created_at            user.name  \\\n",
       "0  1516491256934805508  Tue Apr 19 18:57:45 +0000 2022      javimenniti.eth   \n",
       "1  1516041596126568455  Mon Apr 18 13:10:57 +0000 2022  Revista +Industrias   \n",
       "2  1514457323594465280  Thu Apr 14 04:15:37 +0000 2022         pato carrizo   \n",
       "3  1514344913898557449  Wed Apr 13 20:48:57 +0000 2022        Silvia Rienzo   \n",
       "4  1514323686462930945  Wed Apr 13 19:24:36 +0000 2022         Gustavo Lema   \n",
       "\n",
       "                                                text  favorite_count  \\\n",
       "0  Estudios aseguran que Las #hidrolecticas se qu...               1   \n",
       "1  #LaPampa: Conflicto por Portezuelo: Mendoza es...               0   \n",
       "2  RT @MalosDias: #Ahora, en comunicación con Mar...               0   \n",
       "3  RT @petilombardi: #PortezueloDelViento tenia l...               0   \n",
       "4  RT @petilombardi: #PortezueloDelViento tenia l...               0   \n",
       "\n",
       "   retweet_count  truncated  \n",
       "0              1       True  \n",
       "1              0       True  \n",
       "2              2      False  \n",
       "3             14      False  \n",
       "4             14      False  "
      ]
     },
     "execution_count": 6,
     "metadata": {},
     "output_type": "execute_result"
    }
   ],
   "source": [
    "df.head()"
   ]
  },
  {
   "cell_type": "code",
   "execution_count": null,
   "id": "2286bea3",
   "metadata": {
    "hidden": true
   },
   "outputs": [],
   "source": []
  }
 ],
 "metadata": {
  "kernelspec": {
   "display_name": "Python 3 (ipykernel)",
   "language": "python",
   "name": "python3"
  },
  "language_info": {
   "codemirror_mode": {
    "name": "ipython",
    "version": 3
   },
   "file_extension": ".py",
   "mimetype": "text/x-python",
   "name": "python",
   "nbconvert_exporter": "python",
   "pygments_lexer": "ipython3",
   "version": "3.8.10"
  },
  "latex_envs": {
   "LaTeX_envs_menu_present": true,
   "autoclose": false,
   "autocomplete": true,
   "bibliofile": "biblio.bib",
   "cite_by": "apalike",
   "current_citInitial": 1,
   "eqLabelWithNumbers": true,
   "eqNumInitial": 1,
   "hotkeys": {
    "equation": "Ctrl-E",
    "itemize": "Ctrl-I"
   },
   "labels_anchors": false,
   "latex_user_defs": false,
   "report_style_numbering": false,
   "user_envs_cfg": false
  }
 },
 "nbformat": 4,
 "nbformat_minor": 5
}
